{
 "cells": [
  {
   "cell_type": "code",
   "execution_count": 3,
   "metadata": {},
   "outputs": [],
   "source": [
    "import random\n",
    "import pandas as pd\n",
    "import numpy as np\n",
    "import seaborn as sns"
   ]
  },
  {
   "cell_type": "code",
   "execution_count": 4,
   "metadata": {},
   "outputs": [],
   "source": [
    "houses = pd.read_csv('https://raw.githubusercontent.com/PaoloMissier/CSC3831-2021-22/main/IMPUTATION/TARGET-DATASETS/ORIGINAL/houses.csv', header=0)"
   ]
  },
  {
   "cell_type": "code",
   "execution_count": 5,
   "metadata": {},
   "outputs": [],
   "source": [
    "## distribution of each numeric colum"
   ]
  },
  {
   "cell_type": "code",
   "execution_count": 6,
   "metadata": {},
   "outputs": [
    {
     "data": {
      "text/plain": [
       "Index(['median_house_value', 'median_income', 'housing_median_age',\n",
       "       'total_rooms', 'total_bedrooms', 'population', 'households', 'latitude',\n",
       "       'longitude'],\n",
       "      dtype='object')"
      ]
     },
     "execution_count": 6,
     "metadata": {},
     "output_type": "execute_result"
    }
   ],
   "source": [
    "houses.columns"
   ]
  },
  {
   "cell_type": "markdown",
   "metadata": {},
   "source": [
    "### plotting utility"
   ]
  },
  {
   "cell_type": "code",
   "execution_count": 7,
   "metadata": {},
   "outputs": [],
   "source": [
    "## plotting utility\n",
    "\n",
    "import matplotlib.pyplot as plt\n",
    "import numpy as np\n",
    "from math import ceil\n",
    "\n",
    "##\n",
    "## type= {boxplot, kdeplot}\n",
    "##\n",
    "def plot_distributions(data, columns, type='boxplot', title=None):\n",
    "\n",
    "    print(\"plotting columns {c}\".format(c=list(columns)))\n",
    "    \n",
    "    if type not in {'boxplot', 'dkeplot'}:\n",
    "        print(\"type= {boxplot, dkeplot} only are supported\")\n",
    "        return\n",
    "\n",
    "    ## grid size depends on number of columns\n",
    "    ## max 4 columns in the grid\n",
    "    maxCols  = 4\n",
    "    \n",
    "    if len(columns) < 4:\n",
    "        numCols = len(columns)\n",
    "    else:\n",
    "        numCols = maxCols\n",
    "    numRows = ceil(len(columns) / 4)\n",
    "    \n",
    "    print(\"grid is {0}x{1}\".format(numRows, numCols))\n",
    "\n",
    "    fig, axs = plt.subplots(numRows, numCols)\n",
    "    fig.suptitle(title)\n",
    "    fig.set_figwidth(5*numCols)\n",
    "    fig.set_figheight(3*numCols)\n",
    "    fig.tight_layout(pad=5.0)\n",
    "\n",
    "    print(axs)\n",
    "\n",
    "#         handle special axes\n",
    "    if numRows == 1 and numCols == 1:\n",
    "        c = columns[0]\n",
    "        # axes is a scalar\n",
    "        if type == 'boxplot':\n",
    "            sns.boxplot(data=data, x=c, ax=axs)\n",
    "        else:\n",
    "            sns.kdeplot(data=data, x=c, ax=axs)\n",
    "        axs.set_title(c)\n",
    "\n",
    "    elif numRows == 1:\n",
    "        i = 0\n",
    "        # axes is a 1D array\n",
    "        for c in columns:\n",
    "#         print(\"column {c}\".format(c=c))\n",
    "            if type == 'boxplot':\n",
    "                sns.boxplot(data=data, x=c, ax=axs[i])\n",
    "            else:\n",
    "                sns.kdeplot(data=data, x=c, ax=axs[i])\n",
    "            axs[i].set_title(c)\n",
    "            i = i+1\n",
    "        \n",
    "    else:\n",
    "    # general case of a 2D grid    \n",
    "        i=j=0    \n",
    "        for c in columns:\n",
    "            print(\"column {c}\".format(c=c))\n",
    "            if type == 'boxplot':\n",
    "                print(\"plotting on axes [{0},{1}]\".format(i,j))\n",
    "                sns.boxplot(data=data, x=c, ax=axs[i,j])\n",
    "            else:\n",
    "                sns.kdeplot(data=data, x=c, ax=axs[i,j])\n",
    "\n",
    "            axs[i,j].set_title(c)\n",
    "            j = j+1\n",
    "            if j == 4:\n",
    "                i = i+1\n",
    "                j= 0\n"
   ]
  },
  {
   "cell_type": "markdown",
   "metadata": {},
   "source": [
    "### Descriptive analytics: start by looking at raw statistics for the features in this dataset. what sort of story are they telling?"
   ]
  },
  {
   "cell_type": "markdown",
   "metadata": {},
   "source": [
    "feel free to use the plot utility defined above"
   ]
  },
  {
   "cell_type": "code",
   "execution_count": 17,
   "metadata": {},
   "outputs": [],
   "source": [
    "## your code here"
   ]
  },
  {
   "cell_type": "markdown",
   "metadata": {},
   "source": [
    "### feature normalisation \n",
    "\n",
    "Some of the features need to be normalised before any conclusion can be drawn"
   ]
  },
  {
   "cell_type": "code",
   "execution_count": 4,
   "metadata": {},
   "outputs": [],
   "source": [
    "## normalising the features -- your code here"
   ]
  },
  {
   "cell_type": "markdown",
   "metadata": {},
   "source": [
    "### record identification\n",
    "\n",
    "based on analysis of the normalised features, try and pinpoint specific records that may be outliers, and explain why"
   ]
  },
  {
   "cell_type": "code",
   "execution_count": 6,
   "metadata": {},
   "outputs": [],
   "source": [
    "## your code here "
   ]
  },
  {
   "cell_type": "markdown",
   "metadata": {},
   "source": [
    "have you completely solved the problem? how do we know for sure?\n",
    "\n",
    "we may have removed too much (FP) or too little (FN). Can you suggest empirical validation of your findings?"
   ]
  },
  {
   "cell_type": "code",
   "execution_count": 74,
   "metadata": {},
   "outputs": [
    {
     "name": "stdout",
     "output_type": "stream",
     "text": [
      "correlations: median value to number of rooms: 0.27, median value to number of bedrooms: -0.089\n"
     ]
    }
   ],
   "source": [
    "corr1 = houses_normalised_clean.median_house_value.corr(houses_normalised_clean.rooms_per_household)\n",
    "corr2 = houses_normalised_clean.median_house_value.corr(houses_normalised_clean.bedrooms_per_household)\n",
    "\n",
    "print(\"correlations: median value to number of rooms: {0:.2}, median value to number of bedrooms: {1:.2}\".format(corr1, corr2))"
   ]
  },
  {
   "cell_type": "markdown",
   "metadata": {},
   "source": [
    "it appears that house value is not strongly correlated with size, so probably location is a more relevant factor"
   ]
  },
  {
   "cell_type": "markdown",
   "metadata": {},
   "source": [
    "## next, try using LOF and / or KNN and see if the results align with your empirical analysis"
   ]
  },
  {
   "cell_type": "code",
   "execution_count": 7,
   "metadata": {},
   "outputs": [],
   "source": [
    "from sklearn.neighbors import LocalOutlierFactor"
   ]
  },
  {
   "cell_type": "code",
   "execution_count": 21,
   "metadata": {},
   "outputs": [],
   "source": [
    "## your code here"
   ]
  },
  {
   "cell_type": "markdown",
   "metadata": {},
   "source": [
    "## Your overall conclusions here"
   ]
  },
  {
   "cell_type": "code",
   "execution_count": null,
   "metadata": {},
   "outputs": [],
   "source": []
  }
 ],
 "metadata": {
  "kernelspec": {
   "display_name": "Python 3",
   "language": "python",
   "name": "python3"
  },
  "language_info": {
   "codemirror_mode": {
    "name": "ipython",
    "version": 3
   },
   "file_extension": ".py",
   "mimetype": "text/x-python",
   "name": "python",
   "nbconvert_exporter": "python",
   "pygments_lexer": "ipython3",
   "version": "3.8.3"
  }
 },
 "nbformat": 4,
 "nbformat_minor": 4
}
